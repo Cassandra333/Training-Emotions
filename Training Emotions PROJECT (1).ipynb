{
 "cells": [
  {
   "cell_type": "code",
   "execution_count": 7,
   "id": "03d04d58",
   "metadata": {},
   "outputs": [],
   "source": [
    "import numpy as np\n",
    "import pandas as pd\n",
    "import matplotlib.pyplot as plt\n",
    "import seaborn as sns\n",
    "\n",
    "\n",
    "from sklearn.model_selection import train_test_split\n",
    "from sklearn.metrics import make_scorer, accuracy_score, classification_report, confusion_matrix\n",
    "import tensorflow as tf"
   ]
  },
  {
   "cell_type": "code",
   "execution_count": 10,
   "id": "168e9021",
   "metadata": {},
   "outputs": [],
   "source": [
    "trainSet= pd.read_csv('emotion-labels-train.csv')\n",
    "testSet= pd.read_csv('emotion-labels-test.csv')\n",
    "valSet= pd.read_csv('emotion-labels-val.csv')"
   ]
  },
  {
   "cell_type": "code",
   "execution_count": 12,
   "id": "2d87661e",
   "metadata": {},
   "outputs": [
    {
     "data": {
      "image/png": "[encoded data removed]",
      "text/plain": [
       "<Figure size 432x288 with 1 Axes>"
      ]
     },
     "metadata": {
      "needs_background": "light"
     },
     "output_type": "display_data"
    }
   ],
   "source": [
    "train = pd.concat([trainSet, valSet], axis=0).reset_index(drop=True)\n",
    "\n",
    "# Split data\n",
    "X_train, X_val, y_train, y_val = train_test_split(train['text'], train['label'],\n",
    "                                                    stratify=train['label'],\n",
    "                                                    test_size=0.2, random_state=123)\n",
    "\n",
    "plt.bar(train['label'].value_counts().index, list(train['label'].value_counts()))\n",
    "for index, value in enumerate(list(train['label'].value_counts())):\n",
    "    plt.text(index, value+100, str(value))\n",
    "plt.title('Emotion Count')\n",
    "plt.show()"
   ]
  }
 ],
 "metadata": {
  "kernelspec": {
   "display_name": "Python 3 (ipykernel)",
   "language": "python",
   "name": "python3"
  },
  "language_info": {
   "codemirror_mode": {
    "name": "ipython",
    "version": 3
   },
   "file_extension": ".py",
   "mimetype": "text/x-python",
   "name": "python",
   "nbconvert_exporter": "python",
   "pygments_lexer": "ipython3",
   "version": "3.9.7"
  }
 },
 "nbformat": 4,
 "nbformat_minor": 5
}
